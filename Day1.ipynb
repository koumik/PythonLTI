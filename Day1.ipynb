{
  "nbformat": 4,
  "nbformat_minor": 0,
  "metadata": {
    "colab": {
      "name": "Day1.ipynb",
      "provenance": [],
      "authorship_tag": "ABX9TyNnRVOwL/0IrpdC6VwA7WMC",
      "include_colab_link": true
    },
    "kernelspec": {
      "name": "python3",
      "display_name": "Python 3"
    }
  },
  "cells": [
    {
      "cell_type": "markdown",
      "metadata": {
        "id": "view-in-github",
        "colab_type": "text"
      },
      "source": [
        "<a href=\"https://colab.research.google.com/github/koumik/PythonLTI/blob/main/Day1.ipynb\" target=\"_parent\"><img src=\"https://colab.research.google.com/assets/colab-badge.svg\" alt=\"Open In Colab\"/></a>"
      ]
    },
    {
      "cell_type": "code",
      "metadata": {
        "colab": {
          "base_uri": "https://localhost:8080/"
        },
        "id": "nqo54BZT5827",
        "outputId": "f810585f-bba6-46cc-a789-cf43bc9887b8"
      },
      "source": [
        "a=1\r\n",
        "b=2\r\n",
        "a+b\r\n",
        "print (\"I am me\" + ' ' +str(a+b))"
      ],
      "execution_count": 5,
      "outputs": [
        {
          "output_type": "stream",
          "text": [
            "I am me 3\n"
          ],
          "name": "stdout"
        }
      ]
    },
    {
      "cell_type": "code",
      "metadata": {
        "id": "LAqvXpMN7woi"
      },
      "source": [
        "import numpy"
      ],
      "execution_count": 6,
      "outputs": []
    },
    {
      "cell_type": "markdown",
      "metadata": {
        "id": "dV-VBP8mxAuJ"
      },
      "source": [
        "### 1. **Simple data types and operators**\r\n",
        "\r\n",
        "\r\n"
      ]
    },
    {
      "cell_type": "code",
      "metadata": {
        "colab": {
          "base_uri": "https://localhost:8080/"
        },
        "id": "FBfPAdho7xED",
        "outputId": "bc190194-392c-4be2-9bf5-a87a527a7d50"
      },
      "source": [
        "a=3\r\n",
        "b=2\r\n",
        "print ( a*b, a/b, a+b, a-b, a**b, a//b)"
      ],
      "execution_count": 7,
      "outputs": [
        {
          "output_type": "stream",
          "text": [
            "6 1.5 5 1 9 1\n"
          ],
          "name": "stdout"
        }
      ]
    },
    {
      "cell_type": "markdown",
      "metadata": {
        "id": "wQPMWnuTytQs"
      },
      "source": [
        "Using # symbol makes a statement comment"
      ]
    },
    {
      "cell_type": "code",
      "metadata": {
        "colab": {
          "base_uri": "https://localhost:8080/"
        },
        "id": "B7XYLf6QxK3O",
        "outputId": "fddff79d-7760-4505-d460-e575718fee37"
      },
      "source": [
        "x=range(10)\r\n",
        "print (x)\r\n",
        "for i in x:\r\n",
        "  print (i)\r\n"
      ],
      "execution_count": 8,
      "outputs": [
        {
          "output_type": "stream",
          "text": [
            "range(0, 10)\n",
            "0\n",
            "1\n",
            "2\n",
            "3\n",
            "4\n",
            "5\n",
            "6\n",
            "7\n",
            "8\n",
            "9\n"
          ],
          "name": "stdout"
        }
      ]
    },
    {
      "cell_type": "code",
      "metadata": {
        "colab": {
          "base_uri": "https://localhost:8080/"
        },
        "id": "VTuvjHYUyzcC",
        "outputId": "f1d67a30-6895-48ca-ee6c-eb5085bb3da9"
      },
      "source": [
        "x=range(2,10,3)\r\n",
        "print (x)\r\n",
        "for i in x:\r\n",
        "  print (i)"
      ],
      "execution_count": 9,
      "outputs": [
        {
          "output_type": "stream",
          "text": [
            "range(2, 10, 3)\n",
            "2\n",
            "5\n",
            "8\n"
          ],
          "name": "stdout"
        }
      ]
    },
    {
      "cell_type": "markdown",
      "metadata": {
        "id": "eZy9sv5B5j8R"
      },
      "source": [
        "String & how to print type and str"
      ]
    },
    {
      "cell_type": "code",
      "metadata": {
        "colab": {
          "base_uri": "https://localhost:8080/"
        },
        "id": "Fmeo4pfCyzpm",
        "outputId": "a00831f6-ff43-4019-e7d4-b6a40e9b4bc2"
      },
      "source": [
        "name='Tintin'\r\n",
        "print (name)\r\n",
        "type(name)\r\n",
        "type(a)\r\n",
        "print(type(a), type(b), type(name))"
      ],
      "execution_count": 10,
      "outputs": [
        {
          "output_type": "stream",
          "text": [
            "Tintin\n",
            "<class 'int'> <class 'int'> <class 'str'>\n"
          ],
          "name": "stdout"
        }
      ]
    },
    {
      "cell_type": "code",
      "metadata": {
        "colab": {
          "base_uri": "https://localhost:8080/"
        },
        "id": "4F2iORCzyz4N",
        "outputId": "0c9168a2-fbb5-43fc-c943-baefd36672bf"
      },
      "source": [
        "screen_size=9.82\r\n",
        "type(screen_size)"
      ],
      "execution_count": 11,
      "outputs": [
        {
          "output_type": "execute_result",
          "data": {
            "text/plain": [
              "float"
            ]
          },
          "metadata": {
            "tags": []
          },
          "execution_count": 11
        }
      ]
    },
    {
      "cell_type": "markdown",
      "metadata": {
        "id": "NzMpm9fZ7tW5"
      },
      "source": [
        "*Print Formatting Options:*"
      ]
    },
    {
      "cell_type": "code",
      "metadata": {
        "colab": {
          "base_uri": "https://localhost:8080/"
        },
        "id": "mKQ8UWG8y0HC",
        "outputId": "1d095fe9-bfbf-4154-c450-736abc95d2dd"
      },
      "source": [
        "print (\"Gravity is \" + str(screen_size) + ' ' + \"and\" + ' ' + name + ' ' + \"is falling\")"
      ],
      "execution_count": 29,
      "outputs": [
        {
          "output_type": "stream",
          "text": [
            "Gravity is 9.82 and Tintin is falling\n"
          ],
          "name": "stdout"
        }
      ]
    },
    {
      "cell_type": "markdown",
      "metadata": {
        "id": "AitiBlWo8av7"
      },
      "source": [
        "Boolean:"
      ]
    },
    {
      "cell_type": "code",
      "metadata": {
        "colab": {
          "base_uri": "https://localhost:8080/"
        },
        "id": "G7Y9YNhIy0YR",
        "outputId": "4c048d57-0857-42f0-e986-d2eeb6f4f31a"
      },
      "source": [
        "is_android=False\r\n",
        "type(is_android)"
      ],
      "execution_count": 12,
      "outputs": [
        {
          "output_type": "execute_result",
          "data": {
            "text/plain": [
              "bool"
            ]
          },
          "metadata": {
            "tags": []
          },
          "execution_count": 12
        }
      ]
    },
    {
      "cell_type": "code",
      "metadata": {
        "colab": {
          "base_uri": "https://localhost:8080/"
        },
        "id": "8Cqu4vMr76O7",
        "outputId": "a95d795c-86de-4f44-f117-4f8a10bf06bb"
      },
      "source": [
        "print (is_android==True)"
      ],
      "execution_count": 13,
      "outputs": [
        {
          "output_type": "stream",
          "text": [
            "False\n"
          ],
          "name": "stdout"
        }
      ]
    },
    {
      "cell_type": "markdown",
      "metadata": {
        "id": "KivNCOIg5xrJ"
      },
      "source": [
        "### 2. **Operator Name Example:**"
      ]
    },
    {
      "cell_type": "markdown",
      "metadata": {
        "id": "brbNvlJPG2xY"
      },
      "source": [
        "All conditional statements"
      ]
    },
    {
      "cell_type": "markdown",
      "metadata": {
        "id": "xw_9ztHYG7Z2"
      },
      "source": [
        "### 3. **Code Block - if, for, while**"
      ]
    },
    {
      "cell_type": "code",
      "metadata": {
        "colab": {
          "base_uri": "https://localhost:8080/"
        },
        "id": "Y77XCAMP7__0",
        "outputId": "cfd491ca-59e4-4b55-8edf-d8c7d49bf906"
      },
      "source": [
        "if is_android==False:\r\n",
        "  print(name + ' ' + 'not good')\r\n",
        "  print('if block')\r\n",
        "else:\r\n",
        "  print('Not if block')\r\n"
      ],
      "execution_count": 23,
      "outputs": [
        {
          "output_type": "stream",
          "text": [
            "Tintin not good\n",
            "if block\n"
          ],
          "name": "stdout"
        }
      ]
    },
    {
      "cell_type": "code",
      "metadata": {
        "colab": {
          "base_uri": "https://localhost:8080/"
        },
        "id": "xCM1ANVDHkk1",
        "outputId": "32e13127-b6ac-4b72-ffae-ad5600f3f9f4"
      },
      "source": [
        "for i in range(10):\r\n",
        "  print(i,i+1,i-2,i**3)"
      ],
      "execution_count": 24,
      "outputs": [
        {
          "output_type": "stream",
          "text": [
            "0 1 -2 0\n",
            "1 2 -1 1\n",
            "2 3 0 8\n",
            "3 4 1 27\n",
            "4 5 2 64\n",
            "5 6 3 125\n",
            "6 7 4 216\n",
            "7 8 5 343\n",
            "8 9 6 512\n",
            "9 10 7 729\n"
          ],
          "name": "stdout"
        }
      ]
    },
    {
      "cell_type": "code",
      "metadata": {
        "id": "2qcor4GtHk90"
      },
      "source": [
        "range?"
      ],
      "execution_count": 25,
      "outputs": []
    },
    {
      "cell_type": "code",
      "metadata": {
        "id": "DSi-7oVFHlN8"
      },
      "source": [
        ""
      ],
      "execution_count": null,
      "outputs": []
    },
    {
      "cell_type": "code",
      "metadata": {
        "id": "qxzbUnUVJ0bh"
      },
      "source": [
        ""
      ],
      "execution_count": null,
      "outputs": []
    },
    {
      "cell_type": "code",
      "metadata": {
        "id": "0QWH584TJ0Yq"
      },
      "source": [
        ""
      ],
      "execution_count": null,
      "outputs": []
    },
    {
      "cell_type": "code",
      "metadata": {
        "id": "qDFn17jcJ0Vl"
      },
      "source": [
        ""
      ],
      "execution_count": null,
      "outputs": []
    },
    {
      "cell_type": "code",
      "metadata": {
        "id": "IksQ6e10J0SK"
      },
      "source": [
        ""
      ],
      "execution_count": null,
      "outputs": []
    },
    {
      "cell_type": "code",
      "metadata": {
        "id": "rFxgUY1RJ0PK"
      },
      "source": [
        ""
      ],
      "execution_count": null,
      "outputs": []
    },
    {
      "cell_type": "code",
      "metadata": {
        "id": "s2aquNInJ0LG"
      },
      "source": [
        ""
      ],
      "execution_count": null,
      "outputs": []
    },
    {
      "cell_type": "code",
      "metadata": {
        "id": "azTDm9YPJ0II"
      },
      "source": [
        ""
      ],
      "execution_count": null,
      "outputs": []
    },
    {
      "cell_type": "code",
      "metadata": {
        "id": "UY32kPjOJz_y"
      },
      "source": [
        ""
      ],
      "execution_count": null,
      "outputs": []
    }
  ]
}